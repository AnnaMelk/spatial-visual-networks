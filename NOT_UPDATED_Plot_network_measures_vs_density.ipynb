{
 "cells": [
  {
   "cell_type": "code",
   "execution_count": null,
   "metadata": {},
   "outputs": [],
   "source": [
    "import pandas as pd\n",
    "import matplotlib.pyplot as plt\n",
    "import numpy as np\n",
    "import matplotlib.cm as cm\n",
    "import scipy.interpolate as interpolate\n",
    "import matplotlib.colors as mcolors\n",
    "import matplotlib\n",
    "import itertools as it\n",
    "from collections.abc import Iterable"
   ]
  },
  {
   "cell_type": "code",
   "execution_count": null,
   "metadata": {},
   "outputs": [],
   "source": [
    "df_all=pd.read_hdf('/mnt/DATA/processed_swarm_data_noisepos0.5_noisephi0.1_N225_forAnna.h5')\n",
    "convert_dict={'N':int,'number_connected_components':int}\n",
    "df_all=df_all.astype(convert_dict)\n",
    "df_all['aspect']=df_all['aspect'].round(decimals=1)\n",
    "df_all['alpha']=df_all['alpha'].round(decimals=2)\n",
    "\n",
    "df_all['threshold']=df_all['threshold'].round(decimals=4)\n",
    "df_all['noisephi']=df_all['noisephi'].round(decimals=4)"
   ]
  },
  {
   "cell_type": "code",
   "execution_count": null,
   "metadata": {},
   "outputs": [],
   "source": [
    "def dataframe_filter(filters=None,setup='grid',networktype='visual'):\n",
    "    # filter the dataframe to only keep the required network type, aspect ratio,\n",
    "    # setup and N (number of individuals) and further limitations added by the filters dictionary\n",
    "    \n",
    "    filterquery=''\n",
    "    filtertext=''\n",
    "    if filters is not None:\n",
    "        for k in filters.keys():\n",
    "            if isinstance(filters[k], Iterable) and not isinstance(filters[k],str):\n",
    "                filterquery+=k+' <= %1.5f & '%filters[k][1]+k+' >=%1.5f &'%filters[k][0]\n",
    "                filtertext+=k+'$\\in$ [%1.3f,%1.3f]\\n'%(filters[k][0],filters[k][1])\n",
    "            elif isinstance(filters[k], float) or isinstance(filters[k],int):\n",
    "                filterquery+=k+' == %1.5f &'%(filters[k])\n",
    "                filtertext+=k+' = %1.3f\\n'%filters[k]\n",
    "            else:\n",
    "                print('no idea what it is that you want to filter for: ',k,filters[k])\n",
    "    filterquery+='networktype==\"%s\" & setup==\"%s\"'%(networktype,setup)\n",
    "    filtertext+='networktype =\"%s\"\\nsetup = \"%s\"'%(networktype,setup)\n",
    "    return [filterquery,filtertext]"
   ]
  },
  {
   "cell_type": "code",
   "execution_count": null,
   "metadata": {},
   "outputs": [],
   "source": [
    "def plot_line(df_all,xvar,yvar,setup='grid',networktype='visual',\n",
    "              xbins=None,nr_xbins=100,ci=True,color='k',ax=None,xlabel=None,ylabel=None,\n",
    "                ls='-',alpha=1,filters=None,annotateparams=True,label=None,\n",
    "              annoteplace=(1.8,-0.1),lw=1,min_stats=0):\n",
    "    # filter the data we need\n",
    "    filterquery,filtertext=dataframe_filter(filters=filters,setup=setup,networktype=networktype)\n",
    "    df_tmp=df_all.query(filterquery)[[xvar,yvar]]\n",
    "\n",
    "    if ax is None:\n",
    "        fig,ax=plt.subplots(1)\n",
    "    if xlabel is None:\n",
    "            xlabel=xvar\n",
    "    if ylabel is None:\n",
    "            ylabel=yvar\n",
    "    if xbins is None:\n",
    "        xmax=np.nanmax(df_tmp[xvar])\n",
    "        xmin=np.nanmin(df_tmp[xvar])\n",
    "        xbins=np.linspace(xmin,xmax,nr_xbins+1,endpoint=True)\n",
    "        \n",
    "    # bin the data on the x-axis and average bins\n",
    "    xbinlabels=xbins[:-1]+0.5*np.diff(xbins)\n",
    "    df_tmp[xvar+'_binned']=pd.cut(df_tmp[xvar],bins=xbins,labels=xbinlabels)\n",
    "    df_tmp=df_tmp.dropna(axis=0)\n",
    "    df_tmp.drop(columns=xvar,inplace=True)\n",
    "    tmp = df_tmp.groupby(xvar+'_binned').agg(['mean','count','std']).swaplevel(0,1,axis=1)\n",
    "    df_mean=tmp['mean'].where(tmp['count']>=min_stats).reset_index().dropna()\n",
    "    df_std=tmp['std'].where(tmp['count']>=min_stats).reset_index().dropna()\n",
    "    \n",
    "    # plot the averaged data\n",
    "    xm=np.array(df_mean[xvar+'_binned'])\n",
    "    ym=np.array(df_mean[yvar])\n",
    "    ys=np.array(df_std[yvar])\n",
    "    if label is None:\n",
    "        label=networktype\n",
    "\n",
    "    ax.plot(xm,ym,color=color,alpha=alpha,label=label,ls=ls,lw=lw)\n",
    "    ax.set_xlabel(xlabel)\n",
    "    #plot confidence intervals of one standard deviation if required\n",
    "    if ci:\n",
    "        ax.fill_between(xm,ym-ys,y2=ym+ys,\n",
    "                   color=color,alpha=0.1,label='_no_legend')\n",
    "\n",
    "    ax.set_ylabel(ylabel)\n",
    "    if annotateparams:\n",
    "        ax.annotate(filtertext,annoteplace,xycoords='axes fraction', horizontalalignment='right')     \n"
   ]
  },
  {
   "cell_type": "code",
   "execution_count": null,
   "metadata": {},
   "outputs": [],
   "source": [
    "#check which alphas are in the dataframe\n",
    "df_all.alpha.unique()"
   ]
  },
  {
   "cell_type": "code",
   "execution_count": null,
   "metadata": {
    "scrolled": false
   },
   "outputs": [],
   "source": [
    "N=225\n",
    "\n",
    "axlabel={'avg_linklength':'avg. link length','rel_linklength':'avg. rel. link length',\n",
    "         'avg_indegree':'avg. indegree','avg_outdegree':'avg. outdegree',\n",
    "        'avg_clustering':'avg. clust. coeff.',\n",
    "        'avg_shortest_path':'avg. shortest path','density':'density [BL$^{-2}$]',\n",
    "         'new_density':'density [BL$^{-2}$]','avg_instrength':'avg. in-strength'}\n",
    "main_colors={'visual':'indigo','metric':'coral','topological':'seagreen'}\n",
    "\n",
    "fig,ax=plt.subplots(1)\n",
    "ax.set_xscale('log')\n",
    "\n",
    "thresholds=[0., 0.01 , 0.1 ]\n",
    "norm=plt.Normalize(vmin=np.amin(thresholds), vmax=np.amax(thresholds))\n",
    "cmap=plt.cm.viridis\n",
    "yvar='avg_indegree'\n",
    "\n",
    "\n",
    "for i,thresh in enumerate(thresholds):\n",
    "    c=cmap(norm(thresh))\n",
    "    filters={'polarization':[0,0.3],'threshold':thresh,'noisepos':0.5,'N':N,'aspect':0.3,'alpha':0,\n",
    "             'number_connected_components':1}\n",
    "    xbins=np.logspace(np.log10(0.005),np.log10(2.2),50)\n",
    "    plot_line(df_all,'density',yvar,\n",
    "            networktype='visual',xbins=xbins,ci=False,color=c,annotateparams=False,\n",
    "              alpha=None,min_stats=5,ax=ax,filters=filters,\n",
    "              label='threshold=%1.3f'%thresh)\n",
    "\n",
    "ax.set_ylabel(axlabel[yvar])\n",
    "ax.set_xlabel('density [BL^{-2}]')\n",
    "\n",
    "sm = plt.cm.ScalarMappable(cmap=cmap,norm=norm)\n",
    "sm._A = [] # this might not be necessary if your matplotlib is newer than mine\n",
    "\n",
    "colorbar=plt.colorbar(sm,ticks=thresholds)\n",
    "colorbar.set_label('visual threshold')\n",
    "\n",
    "x_minor = matplotlib.ticker.LogLocator(base = 10.0, subs = np.arange(1.0, 10.0) * 0.1, numticks = 10)\n",
    "ax.xaxis.set_minor_locator(x_minor)\n",
    "ax.xaxis.set_minor_formatter(matplotlib.ticker.NullFormatter())\n",
    "\n",
    "ax.spines['top'].set_visible(False)\n",
    "ax.spines['right'].set_visible(False)\n",
    "fig.set_size_inches(2.3622*.65,1.25)"
   ]
  },
  {
   "cell_type": "code",
   "execution_count": null,
   "metadata": {},
   "outputs": [],
   "source": [
    "# here you could make a similar plot but instead of varying the visual threshold you would vary the alpha\n",
    "# and keep a fixed threshold\n",
    "\n",
    "# Also, you should look at the avg_instrength (which is the weighted indegree) instead of avg_indegree\n",
    "# As a sanity check you can plot the avg_indegree and it should always look like one of the above lines \n",
    "# (depending on your visualthreshold value)\n",
    "\n",
    "#You can either write your own plotting function or use the one above."
   ]
  }
 ],
 "metadata": {
  "kernelspec": {
   "display_name": "Python 3",
   "language": "python",
   "name": "python3"
  },
  "language_info": {
   "codemirror_mode": {
    "name": "ipython",
    "version": 3
   },
   "file_extension": ".py",
   "mimetype": "text/x-python",
   "name": "python",
   "nbconvert_exporter": "python",
   "pygments_lexer": "ipython3",
   "version": "3.5.2"
  }
 },
 "nbformat": 4,
 "nbformat_minor": 2
}
